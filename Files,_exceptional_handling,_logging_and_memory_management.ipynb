{
  "nbformat": 4,
  "nbformat_minor": 0,
  "metadata": {
    "colab": {
      "provenance": []
    },
    "kernelspec": {
      "name": "python3",
      "display_name": "Python 3"
    },
    "language_info": {
      "name": "python"
    }
  },
  "cells": [
    {
      "cell_type": "markdown",
      "source": [
        "#Assignment Queestions"
      ],
      "metadata": {
        "id": "12cuPyHuhdMn"
      }
    },
    {
      "cell_type": "markdown",
      "source": [
        "1. What is the difference between interpreted and compiled languages?\n",
        "  - Interpreted languages: Code is executed line by line by an interpreter (e.g., Python, JavaScript).\n",
        "  - Compiled languages: Entire code is converted into machine code before\n",
        "     execution (e.g., C, C++).\n",
        "2. What is exception handling in Python?\n",
        "  - Exception handling manages runtime errors using try, except, else, finally, and raise blocks to prevent program crashes.\n",
        "3. What is the purpose of the finally block in exception handling?\n",
        "  - The finally block runs no matter what—whether an exception occurs or not.\n",
        "  - It’s often used for cleanup (like closing files or releasing resources).\n",
        "4. What is logging in Python?\n",
        "  - Logging records events or messages during program execution. It helps in debugging and tracking the program’s flow or issues.\n",
        "5. What is the significance of the __del__ method in Python?\n",
        "  - _del__() is a destructor called when an object is about to be destroyed.\n",
        "  - Used for cleanup (like releasing external resources).\n",
        "6. What is the difference between import and from ... import in Python?\n",
        "  - \"import module\" → imports the whole module. Access with module.function().\n",
        "  - \"from module import function\" → imports specific functions/classes. Access\n",
        "     directly with function().\n",
        "7. How can you handle multiple exceptions in Python?\n",
        "  - We can handle the multiple exceptions using by using the multiple except blocks for\n",
        "different exceptions  \n",
        "8. What is the purpose of the with statement when handling files in Python?\n",
        "  - The with used to automatically closing the file even the if an error occurs.\n",
        "9. What is the difference between multithreading and multiprocessing?\n",
        "  - Multithreading: Multiple threads share the same memory space (useful for\n",
        "I/O-bound tasks).\n",
        "  - Multiprocessing: Each process has its own memory (useful for CPU-bound\n",
        "tasks).\n",
        "10. What are the advantages of using logging in a program?\n",
        "  - Tracks the runtime behaviour\n",
        "  - Helps debug issues\n",
        "  - Allows different logging levels(Debug, info, etc)\n",
        "  - Can log to files, not just console.\n",
        "11. What is memory management in Python?\n",
        "  - Handled automatically using reference counting and garbage collection. The \"gc\" module manages unreferenced memory.\n",
        "12.  What are the basic steps involved in exception handling in Python?\n",
        "  - Wrap the risky code in try block.\n",
        "  - Catch the errors with except.\n",
        "  - Use else for code that runs only if no error occurs.\n",
        "  - Use finally for cleanup the tasks.\n",
        "13. Why is memory management important in Python?\n",
        "  - Efficient memory use prevents slowdowns, memory leaks, and crashes, especially in long-running or data-heavy programs.\n",
        "14. What is the role of try and except in exception handling?\n",
        "  - Try: Contains the code that may cause to an exceptions.\n",
        "  - Except: Catches and handles the error gracefully.\n",
        "15. How does Python's garbage collection system work?\n",
        "  - Tracks the object references.\n",
        "  - When an objects’s reference count hits zero, memory is freed.\n",
        "  - A cyclic garbage collector removes circular references automatically\n",
        "16. What is the purpose of the else block in exception handling?\n",
        "  - Runs only if no exception occurs in the try block and useful for code that should run only if everything went fine.\n",
        "17. What are the common logging levels in Python?\n",
        "  - DEBUG: Detailed diagnostic information.\n",
        "  - INFO: Confirmation that things work as expected.\n",
        "  - WARNING: Something unexpected happened.\n",
        "  - ERROR: A serious issues occurred.\n",
        "  - CRITICAL: Very severe error, program may not continue.\n",
        "18. What is the difference between os.fork() and multiprocessing in Python?\n",
        "  - os.fork(): Works only on Unix/Linux; manually creates a process.\n",
        "  - multiprocessing: Cross-platform, high-level API for process-based parallelism.\n",
        "19. What is the importance of closing a file in Python?\n",
        "  - Releases system resources, ensures all data is written (flushed), and prevents file corruption.\n",
        "20. What is the difference between file.read() and file.readline() in Python?\n",
        "  - read(): Reads entire file or specified number of bytes.\n",
        "  - readline(): Reads one line at a time.\n",
        "21. What is the logging module in Python used for?\n",
        "  - The built-in logging module is used to record logs at different severity levels to console or files\n",
        "   - import logging\n",
        "   - logging.basicConfig(level=logging.INFO)\n",
        "   - logging.info(\"This is a log message\")\n",
        "22. What is the os module in Python used for in file handling?\n",
        "  - Used for interacting with the operating system—file paths, directory\n",
        "creation/removal, and environment variables.\n",
        "23. What are the challenges associated with memory management in Python?\n",
        "  - Crucial for references.\n",
        "  - Memory leaks in long – running processes.\n",
        "  - Balancing performance with garbage collection frequency.\n",
        "24. How do you raise an exception manually in Python?\n",
        "  - raise ValueError(\"Invalid input!\")\n",
        "25. Why is it important to use multithreading in certain applications?\n",
        "  - Increaesthe program efficiency for I/O – bound operations.\n",
        "  - Allows tasks like file downloading, UI responsiveness, or API requests to run simultaneously."
      ],
      "metadata": {
        "id": "yJ28IBl_hoai"
      }
    },
    {
      "cell_type": "markdown",
      "source": [
        "# Practical Question"
      ],
      "metadata": {
        "id": "VN3-SJ1innU8"
      }
    },
    {
      "cell_type": "code",
      "execution_count": 1,
      "metadata": {
        "id": "PuBIk3dihYXh"
      },
      "outputs": [],
      "source": [
        "# 1.How can you open a file for writing in Python and write a string to it?\n",
        "with open(\"example.txt\", \"w\") as file:\n",
        "    file.write(\"Hello, World!\")"
      ]
    },
    {
      "cell_type": "code",
      "source": [
        "# 2. Write a Python program to read the contents of a file and print each line\n",
        "with open(\"example.txt\", \"r\") as file:\n",
        "    for line in file:\n",
        "        print(line.strip())"
      ],
      "metadata": {
        "colab": {
          "base_uri": "https://localhost:8080/"
        },
        "id": "xLHXzklfn0w1",
        "outputId": "00792eb5-2381-4506-e1dc-436daa182a43"
      },
      "execution_count": 2,
      "outputs": [
        {
          "output_type": "stream",
          "name": "stdout",
          "text": [
            "Hello, World!\n"
          ]
        }
      ]
    },
    {
      "cell_type": "code",
      "source": [
        "# 3. How would you handle a case where the file doesn't exist while trying to open it for reading?\n",
        "try:\n",
        "    with open(\"nonexistent.txt\", \"r\") as file:\n",
        "        content = file.read()\n",
        "except FileNotFoundError:\n",
        "    print(\"The file does not exist.\")"
      ],
      "metadata": {
        "colab": {
          "base_uri": "https://localhost:8080/"
        },
        "id": "yr3z-8Min5rs",
        "outputId": "bed9060e-a4d1-4122-c09a-e6d1df048430"
      },
      "execution_count": 3,
      "outputs": [
        {
          "output_type": "stream",
          "name": "stdout",
          "text": [
            "The file does not exist.\n"
          ]
        }
      ]
    },
    {
      "cell_type": "code",
      "source": [
        "# 4. Write a Python script that reads from one file and writes its content to another file.\n",
        "with open(\"input.txt\", \"r\") as input_file:\n",
        "    content = input_file.read()\n",
        "\n",
        "with open(\"output.txt\", \"w\") as output_file:\n",
        "    output_file.write(content)"
      ],
      "metadata": {
        "collapsed": true,
        "id": "6ZQpGkdpn__Y"
      },
      "execution_count": null,
      "outputs": []
    },
    {
      "cell_type": "code",
      "source": [
        "# 5. How would you catch and handle a division by zero error in Python?\n",
        "try:\n",
        "    result = 10 / 0\n",
        "except ZeroDivisionError:\n",
        "    print(\"Error: Division by zero is not allowed.\")"
      ],
      "metadata": {
        "colab": {
          "base_uri": "https://localhost:8080/"
        },
        "id": "yD2wYA5EoOnp",
        "outputId": "a57ad397-8861-4806-8841-35fd8d1018f1"
      },
      "execution_count": 5,
      "outputs": [
        {
          "output_type": "stream",
          "name": "stdout",
          "text": [
            "Error: Division by zero is not allowed.\n"
          ]
        }
      ]
    },
    {
      "cell_type": "code",
      "source": [
        "# 6. Write a Python program that logs an error message to a log file when a division by zero exception occurs.\n",
        "import logging\n",
        "\n",
        "logging.basicConfig(filename='error.log', level=logging.ERROR)\n",
        "\n",
        "try:\n",
        "    result = 10 / 0\n",
        "except ZeroDivisionError as e:\n",
        "    logging.error(f\"Division by zero occurred: {e}\")"
      ],
      "metadata": {
        "colab": {
          "base_uri": "https://localhost:8080/"
        },
        "id": "X_jAdPZfoVib",
        "outputId": "ef696667-506c-4600-ae53-bcd1fb579334"
      },
      "execution_count": 6,
      "outputs": [
        {
          "output_type": "stream",
          "name": "stderr",
          "text": [
            "ERROR:root:Division by zero occurred: division by zero\n"
          ]
        }
      ]
    },
    {
      "cell_type": "code",
      "source": [
        "# 7. How do you log information at different levels (INFO, ERROR, WARNING) in Python using the logging module?\n",
        "import logging\n",
        "\n",
        "logging.basicConfig(level=logging.DEBUG, filename='app.log', filemode='w',\n",
        "                    format='%(asctime)s - %(levelname)s - %(message)s')\n",
        "\n",
        "logging.info(\"This is an info message.\")\n",
        "logging.warning(\"This is a warning message.\")\n",
        "logging.error(\"This is an error message.\")"
      ],
      "metadata": {
        "colab": {
          "base_uri": "https://localhost:8080/"
        },
        "id": "ZM0ILF0rocz8",
        "outputId": "06bb8084-07cc-4ede-fdce-dc7353430072"
      },
      "execution_count": 7,
      "outputs": [
        {
          "output_type": "stream",
          "name": "stderr",
          "text": [
            "WARNING:root:This is a warning message.\n",
            "ERROR:root:This is an error message.\n"
          ]
        }
      ]
    },
    {
      "cell_type": "code",
      "source": [
        "# 8. Write a program to handle a file opening error using exception handling.\n",
        "try:\n",
        "    with open(\"data.txt\", \"r\") as file:\n",
        "        content = file.read()\n",
        "except FileNotFoundError:\n",
        "    print(\"Error: The file was not found.\")\n",
        "except PermissionError:\n",
        "    print(\"Error: You don't have permission to access the file.\")"
      ],
      "metadata": {
        "colab": {
          "base_uri": "https://localhost:8080/"
        },
        "id": "iG7l34TEoj4i",
        "outputId": "b3c45a6e-187b-4783-8e9e-14e61aa55c39"
      },
      "execution_count": 8,
      "outputs": [
        {
          "output_type": "stream",
          "name": "stdout",
          "text": [
            "Error: The file was not found.\n"
          ]
        }
      ]
    },
    {
      "cell_type": "code",
      "source": [
        "# 9. How can you read a file line by line and store its content in a list in Python?\n",
        "with open(\"example.txt\", \"r\") as file:\n",
        "    content_list = [line.strip() for line in file]\n",
        "\n",
        "print(content_list)"
      ],
      "metadata": {
        "colab": {
          "base_uri": "https://localhost:8080/"
        },
        "id": "5muj7Qodopao",
        "outputId": "3203366c-88ed-43ac-a145-e1b1c115b243"
      },
      "execution_count": 9,
      "outputs": [
        {
          "output_type": "stream",
          "name": "stdout",
          "text": [
            "['Hello, World!']\n"
          ]
        }
      ]
    },
    {
      "cell_type": "code",
      "source": [
        "# 10. How can you append data to an existing file in Python?\n",
        "with open(\"example.txt\", \"a\") as file:\n",
        "    file.write(\"\\nThis is an appended line.\")"
      ],
      "metadata": {
        "id": "_MzC8Ni6ouu0"
      },
      "execution_count": 10,
      "outputs": []
    },
    {
      "cell_type": "code",
      "source": [
        "# 11. Write a Python program that uses a try-except block to handle an error when attempting to access a dictionary key that doesn't exist.\n",
        "my_dict = {\"name\": \"Alice\"}\n",
        "\n",
        "try:\n",
        "    print(my_dict[\"age\"])\n",
        "except KeyError:\n",
        "    print(\"Key not found in the dictionary.\")"
      ],
      "metadata": {
        "colab": {
          "base_uri": "https://localhost:8080/"
        },
        "id": "eT026kJ1ozXb",
        "outputId": "12431ce7-a257-42b7-cca7-60f0851306fb"
      },
      "execution_count": 11,
      "outputs": [
        {
          "output_type": "stream",
          "name": "stdout",
          "text": [
            "Key not found in the dictionary.\n"
          ]
        }
      ]
    },
    {
      "cell_type": "code",
      "source": [
        "# 12. Write a program that demonstrates using multiple except blocks to handle different types of exceptions.\n",
        "try:\n",
        "    num = int(input(\"Enter a number: \"))\n",
        "    result = 10 / num\n",
        "except ValueError:\n",
        "    print(\"Error: Please enter a valid integer.\")\n",
        "except ZeroDivisionError:\n",
        "    print(\"Error: Division by zero is not allowed.\")"
      ],
      "metadata": {
        "id": "etGv8RYlo5qR"
      },
      "execution_count": null,
      "outputs": []
    },
    {
      "cell_type": "code",
      "source": [
        "# 13. How would you check if a file exists before attempting to read it in Python?\n",
        "import os\n",
        "\n",
        "if os.path.exists(\"example.txt\"):\n",
        "    with open(\"example.txt\", \"r\") as file:\n",
        "        content = file.read()\n",
        "else:\n",
        "    print(\"File does not exist.\")"
      ],
      "metadata": {
        "id": "HfLV9sa5pB1L"
      },
      "execution_count": 13,
      "outputs": []
    },
    {
      "cell_type": "code",
      "source": [
        "# 14. Write a Python program that uses the logging module to log both informational and error messages.\n",
        "import logging\n",
        "\n",
        "logging.basicConfig(filename='app.log', level=logging.INFO,\n",
        "                    format='%(asctime)s - %(levelname)s - %(message)s')\n",
        "\n",
        "try:\n",
        "    result = 10 / 0\n",
        "except ZeroDivisionError as e:\n",
        "    logging.error(f\"Error: {e}\")\n",
        "else:\n",
        "    logging.info(\"No errors occurred.\")"
      ],
      "metadata": {
        "colab": {
          "base_uri": "https://localhost:8080/"
        },
        "id": "Ug5J2XatpGpc",
        "outputId": "8d22f413-b152-42d1-8c4f-02c0ece399bd"
      },
      "execution_count": 14,
      "outputs": [
        {
          "output_type": "stream",
          "name": "stderr",
          "text": [
            "ERROR:root:Error: division by zero\n"
          ]
        }
      ]
    },
    {
      "cell_type": "code",
      "source": [
        "# 15. Write a Python program that prints the content of a file and handles the case when the file is empty.\n",
        "try:\n",
        "    with open(\"example.txt\", \"r\") as file:\n",
        "        content = file.read()\n",
        "        if not content:\n",
        "            print(\"The file is empty.\")\n",
        "        else:\n",
        "            print(content)\n",
        "except FileNotFoundError:\n",
        "    print(\"The file does not exist.\")"
      ],
      "metadata": {
        "colab": {
          "base_uri": "https://localhost:8080/"
        },
        "id": "e-Pjpwu_pNnR",
        "outputId": "4d8f77d0-e8aa-46ab-e9fd-0460fc865909"
      },
      "execution_count": 15,
      "outputs": [
        {
          "output_type": "stream",
          "name": "stdout",
          "text": [
            "Hello, World!\n",
            "This is an appended line.\n"
          ]
        }
      ]
    },
    {
      "cell_type": "code",
      "source": [
        "# 16. Demonstrate how to use memory profiling to check the memory usage of a small program.\n",
        "# pip install memory_profiler (for installing memory_profiler)\n",
        "from memory_profiler import profile\n",
        "\n",
        "@profile\n",
        "def my_function():\n",
        "    a = [x for x in range(1000000)]\n",
        "    return a\n",
        "\n",
        "my_function()\n",
        "# python -m memory_profiler script.py (Run script with)\n"
      ],
      "metadata": {
        "id": "Q7EIlcgMpSxg"
      },
      "execution_count": null,
      "outputs": []
    },
    {
      "cell_type": "code",
      "source": [
        "# 17. Write a Python program to create and write a list of numbers to a file, one number per line.\n",
        "numbers = [1, 2, 3, 4, 5]\n",
        "\n",
        "with open(\"numbers.txt\", \"w\") as file:\n",
        "    for number in numbers:\n",
        "        file.write(f\"{number}\\n\")"
      ],
      "metadata": {
        "id": "wYnCJfX7pmre"
      },
      "execution_count": 18,
      "outputs": []
    },
    {
      "cell_type": "code",
      "source": [
        "# 18. How would you implement a basic logging setup that logs to a file with rotation after 1MB?\n",
        "import logging\n",
        "from logging.handlers import RotatingFileHandler\n",
        "\n",
        "logger = logging.getLogger(\"my_logger\")\n",
        "logger.setLevel(logging.DEBUG)\n",
        "\n",
        "handler = RotatingFileHandler(\"app.log\", maxBytes=1024*1024, backupCount=3)\n",
        "formatter = logging.Formatter('%(asctime)s - %(levelname)s - %(message)s')\n",
        "handler.setFormatter(formatter)\n",
        "\n",
        "logger.addHandler(handler)\n",
        "\n",
        "logger.info(\"This is an informational message.\")\n",
        "logger.error(\"This is an error message.\")"
      ],
      "metadata": {
        "colab": {
          "base_uri": "https://localhost:8080/"
        },
        "id": "0fFA4sZkpyXm",
        "outputId": "52d5b9b8-1c60-46d9-b1b7-0d1758151a3f"
      },
      "execution_count": 19,
      "outputs": [
        {
          "output_type": "stream",
          "name": "stderr",
          "text": [
            "INFO:my_logger:This is an informational message.\n",
            "ERROR:my_logger:This is an error message.\n"
          ]
        }
      ]
    },
    {
      "cell_type": "code",
      "source": [
        "# 19. Write a program that handles both IndexError and KeyError using a try-except block.\n",
        "my_list = [1, 2, 3]\n",
        "my_dict = {\"name\": \"Alice\"}\n",
        "\n",
        "try:\n",
        "    print(my_list)\n",
        "except IndexError:\n",
        "    print(\"Index out of range.\")\n",
        "\n",
        "try:\n",
        "    print(my_dict[\"age\"])\n",
        "except KeyError:\n",
        "    print(\"Key not found.\")"
      ],
      "metadata": {
        "colab": {
          "base_uri": "https://localhost:8080/"
        },
        "id": "KEzPoejgp7AF",
        "outputId": "9343498f-adad-4f9b-f86c-2bb79002f672"
      },
      "execution_count": 20,
      "outputs": [
        {
          "output_type": "stream",
          "name": "stdout",
          "text": [
            "[1, 2, 3]\n",
            "Key not found.\n"
          ]
        }
      ]
    },
    {
      "cell_type": "code",
      "source": [
        "# 20. How would you open a file and read its contents using a context manager in Python?\n",
        "with open(\"example.txt\", \"r\") as file:\n",
        "    content = file.read()\n",
        "    print(content)"
      ],
      "metadata": {
        "colab": {
          "base_uri": "https://localhost:8080/"
        },
        "id": "VP3ZMz-wqBlB",
        "outputId": "e0e3fd6f-813b-49d5-b35e-0ec10fca8538"
      },
      "execution_count": 21,
      "outputs": [
        {
          "output_type": "stream",
          "name": "stdout",
          "text": [
            "Hello, World!\n",
            "This is an appended line.\n"
          ]
        }
      ]
    },
    {
      "cell_type": "code",
      "source": [
        "# 21. Write a Python program that reads a file and prints the number of occurrences of a specific word.\n",
        "def count_word_occurrences(filename, word):\n",
        "    try:\n",
        "        with open(filename, \"r\") as file:\n",
        "            content = file.read()\n",
        "            count = content.lower().count(word.lower())\n",
        "            print(f\"The word '{word}' appears {count} times.\")\n",
        "    except FileNotFoundError:\n",
        "        print(f\"Error: The file '{filename}' does not exist.\")\n",
        "\n",
        "# Example usage\n",
        "count_word_occurrences(\"example.txt\", \"the\")"
      ],
      "metadata": {
        "colab": {
          "base_uri": "https://localhost:8080/"
        },
        "id": "Fv1OylNYqGRY",
        "outputId": "c74b3011-d208-4f2f-dff6-e722aebc339b"
      },
      "execution_count": 22,
      "outputs": [
        {
          "output_type": "stream",
          "name": "stdout",
          "text": [
            "The word 'the' appears 0 times.\n"
          ]
        }
      ]
    },
    {
      "cell_type": "code",
      "source": [
        "# 22. How can you check if a file is empty before attempting to read its contents?\n",
        "def is_file_empty(filename):\n",
        "    try:\n",
        "        with open(filename, \"r\") as file:\n",
        "            if file.read(1) == \"\":\n",
        "                print(\"The file is empty.\")\n",
        "            else:\n",
        "                print(\"The file is not empty.\")\n",
        "    except FileNotFoundError:\n",
        "        print(f\"Error: The file '{filename}' does not exist.\")\n",
        "\n",
        "# Example usage\n",
        "is_file_empty(\"example.txt\")"
      ],
      "metadata": {
        "colab": {
          "base_uri": "https://localhost:8080/"
        },
        "id": "VdHKYDWfqUbd",
        "outputId": "b75098a8-3ac6-4277-d63c-616bbbcbd47e"
      },
      "execution_count": 23,
      "outputs": [
        {
          "output_type": "stream",
          "name": "stdout",
          "text": [
            "The file is not empty.\n"
          ]
        }
      ]
    },
    {
      "cell_type": "code",
      "source": [
        "# 23. Write a Python program that writes to a log file when an error occurs during file handling.\n",
        "import logging\n",
        "\n",
        "logging.basicConfig(filename='file_handling_errors.log', level=logging.ERROR,\n",
        "                    format='%(asctime)s - %(levelname)s - %(message)s')\n",
        "\n",
        "def read_file_safely(filename):\n",
        "    try:\n",
        "        with open(filename, \"r\") as file:\n",
        "            content = file.read()\n",
        "            print(content)\n",
        "    except FileNotFoundError:\n",
        "        logging.error(f\"Attempted to read file '{filename}' but it does not exist.\")\n",
        "    except PermissionError:\n",
        "        logging.error(f\"Attempted to read file '{filename}' but permission was denied.\")\n",
        "    except Exception as e:\n",
        "        logging.error(f\"An unexpected error occurred while reading file '{filename}': {e}\")\n",
        "\n",
        "# Example usage\n",
        "read_file_safely(\"nonexistent.txt\")"
      ],
      "metadata": {
        "colab": {
          "base_uri": "https://localhost:8080/"
        },
        "id": "uxM0bVysqZAa",
        "outputId": "11915111-4e04-4169-891c-326ee9cf0232"
      },
      "execution_count": 24,
      "outputs": [
        {
          "output_type": "stream",
          "name": "stderr",
          "text": [
            "ERROR:root:Attempted to read file 'nonexistent.txt' but it does not exist.\n"
          ]
        }
      ]
    }
  ]
}