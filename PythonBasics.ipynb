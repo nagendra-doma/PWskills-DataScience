{
  "nbformat": 4,
  "nbformat_minor": 0,
  "metadata": {
    "colab": {
      "provenance": []
    },
    "kernelspec": {
      "name": "python3",
      "display_name": "Python 3"
    },
    "language_info": {
      "name": "python"
    }
  },
  "cells": [
    {
      "cell_type": "markdown",
      "source": [
        "#Python Basic\n",
        "\n",
        "---\n",
        "\n"
      ],
      "metadata": {
        "id": "Z1e58lqQhAMm"
      }
    },
    {
      "cell_type": "markdown",
      "source": [
        "1. What is Python, and why is it popular?\n",
        "  - Python is a high-level, interpreted programming language known for its simplicity and readability. It is popular due to its versatility, ease of learning, and wide range of applications, including web development, data science, AI, and automation.\n",
        "2. What is an interpreter in Python?\n",
        "  - An interpreter is a program that executes Python code line by line. Python uses an interpreter to translate and run the code in real time, making it easier to debug and test.   \n",
        "3. What are pre-defined keywords in Python?\n",
        "  - Pre-defined keywords are reserved words in Python that have specific meanings and cannot be used as variable names or identifiers. Examples include if, else, for, while, etc.\n",
        "4. Can keywords be used as variable names?\n",
        "  - No, keywords cannot be used as variable names in Python. Doing so would result in a syntax error.\n",
        "5. What is mutability in Python?\n",
        "  - Mutability refers to the ability of an object to be changed after it is created. Mutable objects can be modified, while immutable objects cannot.\n",
        "6. Why are lists mutable, but tuples are immutable?\n",
        "  - Lists are mutable because they allow changes to their elements after creation, while tuples are immutable, meaning their elements cannot be modified once defined.\n",
        "7. What is the difference between \"==\" and \"is\" operators in Python?\n",
        "  - \"==\" checks if the values of two variables are equal.\n",
        "  - \"is\" checks if two variables point to the same object in memory.  \n",
        "8. What are logical operators in Python?\n",
        "  - Logical operators are used to combine conditional statements. They include and, or, and not.\n",
        "9. What is type casting in Python?\n",
        "  - Type casting is the process of converting one data type into another.\n",
        "  - For example, converting a string to an integer using int().    \n",
        "10. What is the difference between implicit and explicit type casting?\n",
        "  - Implicit type casting is automatically done by Python (e.g., 1 + 2.5 results in 3.5).\n",
        "  - Explicit type casting is done manually by the user (e.g., int(\"123\")).  \n",
        "11. What is the purpose of conditional statements in Python?  \n",
        "  - Conditional statements (like if, elif, and else) are used to control the flow of a program based on certain conditions.\n",
        "12. How does the elif statement work?\n",
        "  - The elif statement is used to check multiple conditions in sequence. If the first condition (if) is false, it checks the next condition (elif), and so on.\n",
        "13. What is the difference between for and while loops?\n",
        "  - A for loop is used to iterate over a sequence (e.g., a list, tuple, or string).\n",
        "  - A while loop executes as long as a condition is true, making it suitable for situations where the number of iterations is unknown.  \n",
        "14. Describe a scenario where a while loop is more suitable than a for loop.\n",
        "  - A while loop is more suitable when the number of iterations is not known in advance. For example, a game loop that continues until the user decides to exit.\n",
        "    "
      ],
      "metadata": {
        "id": "eSFn-AqQhHbo"
      }
    },
    {
      "cell_type": "markdown",
      "source": [
        "#Practical Question"
      ],
      "metadata": {
        "id": "gVVPE1yWlI2_"
      }
    },
    {
      "cell_type": "code",
      "execution_count": 2,
      "metadata": {
        "colab": {
          "base_uri": "https://localhost:8080/"
        },
        "id": "aDwLxVbjg6HD",
        "outputId": "10cac466-30f3-4dad-cf5c-74dd13708ac3"
      },
      "outputs": [
        {
          "output_type": "stream",
          "name": "stdout",
          "text": [
            "Hello, World!\n"
          ]
        }
      ],
      "source": [
        "# 1. Write a Python program to print \"Hello, World!\"\n",
        "print(\"Hello, World!\")"
      ]
    },
    {
      "cell_type": "code",
      "source": [
        "# 2. Write a Python program that displays your name and age\n",
        "name = \"Nagendra\"\n",
        "age=22\n",
        "print(f\"Name:{name},Age:{age}\")"
      ],
      "metadata": {
        "colab": {
          "base_uri": "https://localhost:8080/"
        },
        "id": "UE4SQkLqlrjS",
        "outputId": "28ef9242-0f04-469b-89eb-9c8f010f46f2"
      },
      "execution_count": 3,
      "outputs": [
        {
          "output_type": "stream",
          "name": "stdout",
          "text": [
            "Name:Nagendra,Age:22\n"
          ]
        }
      ]
    },
    {
      "cell_type": "code",
      "source": [
        "# 3. Write code to print all the pre-defined keywords in Python using the keyword library\n",
        "import keyword\n",
        "print(keyword.kwlist)"
      ],
      "metadata": {
        "colab": {
          "base_uri": "https://localhost:8080/"
        },
        "id": "Bps99F5PmQE0",
        "outputId": "b6f31e8e-4231-459e-953f-1a1ef65f7616"
      },
      "execution_count": 4,
      "outputs": [
        {
          "output_type": "stream",
          "name": "stdout",
          "text": [
            "['False', 'None', 'True', 'and', 'as', 'assert', 'async', 'await', 'break', 'class', 'continue', 'def', 'del', 'elif', 'else', 'except', 'finally', 'for', 'from', 'global', 'if', 'import', 'in', 'is', 'lambda', 'nonlocal', 'not', 'or', 'pass', 'raise', 'return', 'try', 'while', 'with', 'yield']\n"
          ]
        }
      ]
    },
    {
      "cell_type": "code",
      "source": [
        "# 4. Write a program that checks if a given word is a Python keyword\n",
        "import keyword\n",
        "word=input(\"enter a word:\")\n",
        "if keyword.iskeyword(word):\n",
        "  print(word,\"is a python keyword.\")\n",
        "else:\n",
        "  print(word,\"is not a python keyword.\")"
      ],
      "metadata": {
        "colab": {
          "base_uri": "https://localhost:8080/"
        },
        "id": "UoijfjsLmgRj",
        "outputId": "09e2e503-1fd3-4579-c720-e1387e9ccc4d"
      },
      "execution_count": 6,
      "outputs": [
        {
          "output_type": "stream",
          "name": "stdout",
          "text": [
            "enter a word:True\n",
            "True is a python keyword.\n"
          ]
        }
      ]
    },
    {
      "cell_type": "code",
      "source": [
        "# 5. Create a list and tuple in Python, and demonstrate how attempting to change an element works differently for each\n",
        "my_list = [1,2,3]\n",
        "my_tuple=(1,2,3)\n",
        "my_list=100\n",
        "print(\"modified list:\",my_list)\n",
        "try:\n",
        "  my_tuple=100\n",
        "except TypeError as e:\n",
        "  print(\"Error:\",e)\n",
        "\n"
      ],
      "metadata": {
        "colab": {
          "base_uri": "https://localhost:8080/"
        },
        "id": "9rPn4blFnFM1",
        "outputId": "2f901ef4-589d-4849-cc5d-e7861ef22bb0"
      },
      "execution_count": 9,
      "outputs": [
        {
          "output_type": "stream",
          "name": "stdout",
          "text": [
            "modified list: 100\n"
          ]
        }
      ]
    },
    {
      "cell_type": "code",
      "source": [
        "# 6. Write a function to demonstrate the behavior of mutable and immutable arguments\n",
        "def modify_list(lst):\n",
        "  lst.append(100)\n",
        "def modify_int(x):\n",
        "  x+=100\n",
        "my_list = [1,2,3]\n",
        "my_int=50\n",
        "modify_list(my_list)\n",
        "modify_int(my_int)\n",
        "print(\"List after fcuntion call:\",my_list)\n",
        "print(\"Interger after function call:\",my_int)"
      ],
      "metadata": {
        "colab": {
          "base_uri": "https://localhost:8080/"
        },
        "id": "ru_J_o_pogbC",
        "outputId": "3a8b3f31-6899-400a-8fe6-041c9796d6e9"
      },
      "execution_count": 10,
      "outputs": [
        {
          "output_type": "stream",
          "name": "stdout",
          "text": [
            "List after fcuntion call: [1, 2, 3, 100]\n",
            "Interger after function call: 50\n"
          ]
        }
      ]
    },
    {
      "cell_type": "code",
      "source": [
        "# 7. Write a program that performs basic arithmetic operations on two user-input numbers\n",
        "num1=float(input(\"Enter first number: \"))\n",
        "num2=float(input(\"Enter second number: \"))\n",
        "print(\"Addition:\",num1+num2)\n",
        "print(\"sSubtraction:\",num1-num2)\n",
        "print(\"Multiplication:\",num1*num2)\n",
        "print(\"Division:\",num1/num2)\n",
        "print(\"Modulus:\",num1%num2)\n",
        "print(\"exponenriation:\",num1**num2)"
      ],
      "metadata": {
        "colab": {
          "base_uri": "https://localhost:8080/"
        },
        "id": "q_lLsJgWpPTC",
        "outputId": "e849f774-027a-4b30-92c0-815c03790a8e"
      },
      "execution_count": 11,
      "outputs": [
        {
          "output_type": "stream",
          "name": "stdout",
          "text": [
            "Enter first number: 2\n",
            "Enter second number: 3\n",
            "Addition: 5.0\n",
            "sSubtraction: -1.0\n",
            "Multiplication: 6.0\n",
            "Division: 0.6666666666666666\n",
            "Modulus: 2.0\n",
            "exponenriation: 8.0\n"
          ]
        }
      ]
    },
    {
      "cell_type": "code",
      "source": [
        "# 8. Write a program to demonstrate the use of logical operators\n",
        "a=10\n",
        "b=20\n",
        "c=30\n",
        "print(a>b and b<c)\n",
        "print(a<b or b>c)\n",
        "print(not(a>b))"
      ],
      "metadata": {
        "colab": {
          "base_uri": "https://localhost:8080/"
        },
        "id": "dLbGMQT2qORd",
        "outputId": "67146eb6-57d0-42bd-f09e-a2d92a578b99"
      },
      "execution_count": 12,
      "outputs": [
        {
          "output_type": "stream",
          "name": "stdout",
          "text": [
            "False\n",
            "True\n",
            "True\n"
          ]
        }
      ]
    },
    {
      "cell_type": "code",
      "source": [
        "# 9. Write a Python program to convert user input from string to integer, float, and boolean types\n",
        "user_input=input(\"enter a value: \")\n",
        "try:\n",
        "  int_value=int(user_input)\n",
        "  float_value=float(user_input)\n",
        "  bool_value=bool(user_input)\n",
        "  print(f\"integer: {int_value},Float: {float_value},Boolean: {bool_value}\")\n",
        "except ValueError:\n",
        "    print(\"Invaid input for conversion.\")"
      ],
      "metadata": {
        "colab": {
          "base_uri": "https://localhost:8080/"
        },
        "id": "gqFSan-1qh07",
        "outputId": "1aa67fb9-cd83-448c-a06a-bf3115a125d0"
      },
      "execution_count": 14,
      "outputs": [
        {
          "output_type": "stream",
          "name": "stdout",
          "text": [
            "enter a value: 10\n",
            "integer: 10,Float: 10.0,Boolean: True\n"
          ]
        }
      ]
    },
    {
      "cell_type": "code",
      "source": [
        "# 10. Write code to demonstrate type casting with list elements\n",
        "original_list = [\"1\", \"2\", \"3\"]\n",
        "int_list = [int(x) for x in original_list]\n",
        "print(\"Converted list:\", int_list)"
      ],
      "metadata": {
        "colab": {
          "base_uri": "https://localhost:8080/"
        },
        "id": "QIldtm7hrojK",
        "outputId": "e0ab2d0a-3772-495f-fc97-79abc27a5036"
      },
      "execution_count": 15,
      "outputs": [
        {
          "output_type": "stream",
          "name": "stdout",
          "text": [
            "Converted list: [1, 2, 3]\n"
          ]
        }
      ]
    },
    {
      "cell_type": "code",
      "source": [
        "# 11. Write a program that checks if a number is positive, negative, or zero\n",
        "num = float(input(\"Enter a number: \"))\n",
        "\n",
        "if num > 0:\n",
        "    print(\"Positive\")\n",
        "elif num < 0:\n",
        "    print(\"Negative\")\n",
        "else:\n",
        "    print(\"Zero\")"
      ],
      "metadata": {
        "colab": {
          "base_uri": "https://localhost:8080/"
        },
        "id": "LNCl50UsrzmD",
        "outputId": "4d696f93-ef4b-4a85-852e-8d0f645fdbbe"
      },
      "execution_count": 16,
      "outputs": [
        {
          "output_type": "stream",
          "name": "stdout",
          "text": [
            "Enter a number: 20\n",
            "Positive\n"
          ]
        }
      ]
    },
    {
      "cell_type": "code",
      "source": [
        "# 12. Write a for loop to print numbers from 1 to 10\n",
        "for i in range(1, 11):\n",
        "    print(i)"
      ],
      "metadata": {
        "colab": {
          "base_uri": "https://localhost:8080/"
        },
        "id": "urKKUB7PsE6I",
        "outputId": "bfe392fb-0fdf-41aa-96f1-f41af2764136"
      },
      "execution_count": 17,
      "outputs": [
        {
          "output_type": "stream",
          "name": "stdout",
          "text": [
            "1\n",
            "2\n",
            "3\n",
            "4\n",
            "5\n",
            "6\n",
            "7\n",
            "8\n",
            "9\n",
            "10\n"
          ]
        }
      ]
    },
    {
      "cell_type": "code",
      "source": [
        "# 13. Write a Python program to find the sum of all even numbers between 1 and 50\n",
        "total = 0\n",
        "for i in range(2, 51, 2):\n",
        "    total += i\n",
        "print(\"Sum of even numbers:\", total)"
      ],
      "metadata": {
        "colab": {
          "base_uri": "https://localhost:8080/"
        },
        "id": "8Qn3v9PnsKvE",
        "outputId": "1a73a28d-8fbb-4af1-b635-c4a82ad8d455"
      },
      "execution_count": 18,
      "outputs": [
        {
          "output_type": "stream",
          "name": "stdout",
          "text": [
            "Sum of even numbers: 650\n"
          ]
        }
      ]
    },
    {
      "cell_type": "code",
      "source": [
        "# 14. Write a program to reverse a string using a while loop\n",
        "string = input(\"Enter a string: \")\n",
        "reversed_string = \"\"\n",
        "index = len(string) - 1\n",
        "\n",
        "while index >= 0:\n",
        "    reversed_string += string[index]\n",
        "    index -= 1\n",
        "\n",
        "print(\"Reversed string:\", reversed_string)"
      ],
      "metadata": {
        "colab": {
          "base_uri": "https://localhost:8080/"
        },
        "id": "J8mo-btdscJE",
        "outputId": "4246d417-bf34-41fc-b9de-7d3f34c9eb02"
      },
      "execution_count": 19,
      "outputs": [
        {
          "output_type": "stream",
          "name": "stdout",
          "text": [
            "Enter a string: nagendra\n",
            "Reversed string: ardnegan\n"
          ]
        }
      ]
    },
    {
      "cell_type": "code",
      "source": [
        "# 15. Write a Python program to calculate the factorial of a number provided by the user using a while loop\n",
        "num = int(input(\"Enter a number: \"))\n",
        "factorial = 1\n",
        "i = 1\n",
        "\n",
        "while i <= num:\n",
        "    factorial *= i\n",
        "    i += 1\n",
        "\n",
        "print(f\"Factorial of {num} is {factorial}\")"
      ],
      "metadata": {
        "colab": {
          "base_uri": "https://localhost:8080/"
        },
        "id": "rKhNmXZ-sqlE",
        "outputId": "c2452c31-3275-4b8f-945b-70bcd553d2a4"
      },
      "execution_count": 20,
      "outputs": [
        {
          "output_type": "stream",
          "name": "stdout",
          "text": [
            "Enter a number: 15\n",
            "Factorial of 15 is 1307674368000\n"
          ]
        }
      ]
    }
  ]
}