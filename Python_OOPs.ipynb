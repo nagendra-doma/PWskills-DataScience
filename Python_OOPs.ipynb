{
  "nbformat": 4,
  "nbformat_minor": 0,
  "metadata": {
    "colab": {
      "provenance": []
    },
    "kernelspec": {
      "name": "python3",
      "display_name": "Python 3"
    },
    "language_info": {
      "name": "python"
    }
  },
  "cells": [
    {
      "cell_type": "markdown",
      "source": [
        "#Python OOPs"
      ],
      "metadata": {
        "id": "M2eCJ_iIa6Br"
      }
    },
    {
      "cell_type": "markdown",
      "source": [
        "1. What is Object-Oriented Programming (OOP)?\n",
        "  - It is paradigm that organizes the code into objects, Which are instances of classes and it focuses on real-world modelling\n",
        "2. What is a class in OOP?\n",
        "  - It is a blueprint or template for creating objects. It defines attributes (variables) and methods (functions) that describe an object’s behavior.\n",
        "3. What is an object in OOP?\n",
        "  - It is an instance of a class. It represents a specific entity with unique data and can use the class’s methods.\n",
        "4. What is the difference between abstraction and encapsulation.?  \n",
        "  - Abstraction: Hides complex implementation details and shows only necessary features.\n",
        "  - Encapsulation: Bind the data and methods into one unit and restricts access using access modifiers (like private).\n",
        "1.\tWhat is Object-Oriented Programming (OOP)?\n",
        "It is paradigm that organizes the code into objects, Which are instances of classes and it focuses on real-world modelling\n",
        "\n",
        "2.\tWhat is a class in OOP?\n",
        "It is a blueprint or template for creating objects. It defines attributes (variables) and methods (functions) that describe an object’s behavior.\n",
        "\n",
        "3.\tWhat is an object in OOP?\n",
        "It is an instance of a class. It represents a specific entity with unique data and can use the class’s methods.\n",
        "\n",
        "4.\tWhat is the difference between abstraction and encapsulation.?\n",
        "•\tAbstraction: Hides complex implementation details and shows only necessary features.\n",
        "•\tEncapsulation: Bind the data and methods into one unit and restricts access using access modifiers (like private).\n",
        "\n",
        "5. What are dunder methods in Python?\n",
        "  - Dunder methods (double underscore methods), like __init__, __str__, or __add__, are special predefined methods used to define object behavior for built-in operations.\n",
        "\n",
        "6. Explain the concept of inheritance in OOP?\n",
        " - It allows a class to derive properties and methods from another class, enabling code reuse and hierarchy creation.\n",
        "\n",
        "7.\tWhat is polymorphism in OOP?\n",
        "  - It means “many forms.” It allows objects of different classes to respond to the same method call in different ways.\n",
        "\n",
        "8.\tHow is encapsulation achieved in Python?\n",
        "  - Encapsulation is achieved by using private attributes and getter/setter methods to control access.\n",
        "\n",
        "9.\tWhat is a constructor in Python?\n",
        "  - A constructor is a special method that is automatically called when an object is created to initialize its attributes.\n",
        "\n",
        "10.\tWhat are class and static methods in Python?\n",
        "  -\tClass method: Defined using @classmethod, takes cls as the first argument, and can modify class-level data.\n",
        "  -\tStatic method: Defined using @staticmethod, does not take self or cls, and behaves like a normal function inside a class.\n",
        "\n",
        "11.\tWhat is method overloading in Python?\n",
        "  - Python doesn’t support true overloading. However, it can be simulated using default arguments or variable-length arguments (*args, **kwargs).\n",
        "\n",
        "12.\tWhat is method overriding in OOP?\n",
        "  - Overriding occurs when a subclass provides its own version of a method already defined in the parent class.\n",
        "\n",
        "13.\tWhat is a property decorator in Python?\n",
        "  - @property allows a method to be accessed like an attribute while still providing getter/setter functionality.\n",
        "\n",
        "14.\tWhy is polymorphism important in OOP?\n",
        "  - It improves code flexibility and reusability, allowing different classes to be used interchangeably through a common interface.\n",
        "\n",
        "15.\tWhat is an abstract class in Python?\n",
        "  - An abstract class (from the abc module) is a class that cannot be instantiated directly and may contain abstract methods that must be implemented in derived classes.\n",
        "\n",
        "16.\tWhat are the advantages of OOP?\n",
        "  - \tCode reusability\n",
        "  -\tModularity\n",
        "  -\tEasier debugging and maintenance\n",
        "  -\tReal-world modeling\n",
        "  -\tExtensibility\n",
        "\n",
        "17.\tWhat is the difference between a class variable and an instance variable?\n",
        "  - Class Variable: Shared by all instances of the class.\n",
        "Instance Variable: Unique to each object.\n",
        "\n",
        "18.\tWhat is multiple inheritance in Python?\n",
        "  - When a class inherits from more than one parent class, it is called multiple inheritance.\n",
        "\n",
        "19.\tExplain the purpose of ‘’__str__’ and ‘__repr__’ ‘ methods in Python?\n",
        "  - __str__(): Defines a human-readable string representation.\n",
        "  -\t__repr__(): Defines an unambiguous representation for developers/debugging.\n",
        "\n",
        "20.\tWhat is the significance of the ‘super()’ function in Python?\n",
        "  - super() allows access to methods and constructors of the parent class from a child class, enabling method extension.\n",
        "\n",
        "21.\tWhat is the significance of the __del__ method in Python?\n",
        "  - __del__() is a destructor method automatically called when an object is about to be destroyed, used for cleanup tasks.\n",
        "\n",
        "22.\tWhat is the difference between @staticmethod and @classmethod in Python?\n",
        "  - Feature\t               @staticmethod\t      @classmethod\n",
        "  - First parameter\t:       None\t     ,            cls\n",
        "  - Access\t        :       Cannot access class/object\n",
        "                           attributes\t,            Can access class attributes\n",
        "  - Purpose\t        :       Utility function\t ,     Class-level operations\n",
        "23.\tHow does polymorphism work in Python with inheritance?\n",
        "  - When a subclass overrides a method from the parent, the same method call behaves differently depending on the object’s class.\n",
        "\n",
        "24.\tWhat is method chaining in Python OOP?\n",
        "  - Returning self from a method allows multiple method calls on the same object in one line.\n",
        "\n",
        "25.\tWhat is the purpose of the __call__ method in Python?\n",
        "  - __call__() makes an instance callable like a function.\n",
        "  - Example:\n",
        "  - class Example:\n",
        "  -   def __call__(self):\n",
        "  -      print(\"Object called like a function!\")\n",
        "  - obj = Example()\n",
        "  -  obj()\n",
        "  "
      ],
      "metadata": {
        "id": "rKlxVF4ibDzU"
      }
    },
    {
      "cell_type": "markdown",
      "source": [
        "# Practical Questions"
      ],
      "metadata": {
        "id": "GMElUZoNeol_"
      }
    },
    {
      "cell_type": "code",
      "source": [
        "# 1.\tCreate a parent class Animal with a method speak() that prints a generic message. Create a child class Dog that overrides the speak() method to print \"Bark!\".\n",
        "class Animal:\n",
        "    def speak(self):\n",
        "        print(\"Generic animal sound\")\n",
        "\n",
        "class Dog(Animal):\n",
        "    def speak(self):\n",
        "        print(\"Bark!\")\n",
        "dog = Dog()\n",
        "dog.speak()"
      ],
      "metadata": {
        "colab": {
          "base_uri": "https://localhost:8080/"
        },
        "id": "c7bD6T6Kgays",
        "outputId": "f51e5dcd-a47b-4103-9e37-5f2ecda7e8ad"
      },
      "execution_count": 8,
      "outputs": [
        {
          "output_type": "stream",
          "name": "stdout",
          "text": [
            "Bark!\n"
          ]
        }
      ]
    },
    {
      "cell_type": "code",
      "source": [
        "# 2.\tWrite a program to create an abstract class Shape with a method area(). Derive classes Circle and Rectangle from it and implement the area() method in both.\n",
        "from abc import ABC, abstractmethod\n",
        "\n",
        "class Shape(ABC):\n",
        "    @abstractmethod\n",
        "    def area(self):\n",
        "        pass\n",
        "\n",
        "class Circle(Shape):\n",
        "    def __init__(self, radius):\n",
        "        self.radius = radius\n",
        "\n",
        "    def area(self):\n",
        "        return 3.14 * self.radius * self.radius\n",
        "\n",
        "class Rectangle(Shape):\n",
        "    def __init__(self, length, width):\n",
        "        self.length = length\n",
        "        self.width = width\n",
        "\n",
        "    def area(self):\n",
        "        return self.length * self.width\n",
        "\n",
        "# Example usage\n",
        "circle = Circle(5)\n",
        "rectangle = Rectangle(4, 6)\n",
        "print(\"Circle Area:\", circle.area())\n",
        "print(\"Rectangle Area:\", rectangle.area())"
      ],
      "metadata": {
        "colab": {
          "base_uri": "https://localhost:8080/"
        },
        "id": "Uk68qobxgo0U",
        "outputId": "8fea5dda-2eb2-43b7-d293-00e95998eaab"
      },
      "execution_count": 9,
      "outputs": [
        {
          "output_type": "stream",
          "name": "stdout",
          "text": [
            "Circle Area: 78.5\n",
            "Rectangle Area: 24\n"
          ]
        }
      ]
    },
    {
      "cell_type": "code",
      "source": [
        "# 3.Implement a multi-level inheritance scenario where a class Vehicle has an attribute type. Derive a class Car and further derive a class ElectricCar that adds a battery attribute.\n",
        "class Vehicle:\n",
        "    def __init__(self, type):\n",
        "        self.type = type\n",
        "\n",
        "class Car(Vehicle):\n",
        "    def __init__(self, type, model):\n",
        "        super().__init__(type)\n",
        "        self.model = model\n",
        "\n",
        "class ElectricCar(Car):\n",
        "    def __init__(self, type, model, battery):\n",
        "        super().__init__(type, model)\n",
        "        self.battery = battery\n",
        "\n",
        "# Example usage\n",
        "electric_car = ElectricCar(\"Car\", \"Tesla\", \"100kWh\")\n",
        "print(\"Type:\", electric_car.type)\n",
        "print(\"Model:\", electric_car.model)\n",
        "print(\"Battery:\", electric_car.battery)"
      ],
      "metadata": {
        "colab": {
          "base_uri": "https://localhost:8080/"
        },
        "id": "mphVj37whN-1",
        "outputId": "537efc21-208a-4c15-f8e8-3c13cf0d13db"
      },
      "execution_count": 10,
      "outputs": [
        {
          "output_type": "stream",
          "name": "stdout",
          "text": [
            "Type: Car\n",
            "Model: Tesla\n",
            "Battery: 100kWh\n"
          ]
        }
      ]
    },
    {
      "cell_type": "code",
      "source": [
        "# 4. Demonstrate polymorphism by creating a base class Bird with a method fly(). Create two derived classes Sparrow and Penguin that override the fly() method.\n",
        "class Bird:\n",
        "    def fly(self):\n",
        "        print(\"This bird can fly.\")\n",
        "\n",
        "class Sparrow(Bird):\n",
        "    def fly(self):\n",
        "        print(\"Sparrow is flying.\")\n",
        "\n",
        "class Penguin(Bird):\n",
        "    def fly(self):\n",
        "        print(\"Penguin cannot fly.\")\n",
        "\n",
        "# Example usage\n",
        "birds = [Sparrow(), Penguin()]\n",
        "for bird in birds:\n",
        "    bird.fly()"
      ],
      "metadata": {
        "colab": {
          "base_uri": "https://localhost:8080/"
        },
        "id": "7D9wrJBxhcAL",
        "outputId": "2ce54d0f-9229-4af4-d8d1-a1b7baaa877b"
      },
      "execution_count": 11,
      "outputs": [
        {
          "output_type": "stream",
          "name": "stdout",
          "text": [
            "Sparrow is flying.\n",
            "Penguin cannot fly.\n"
          ]
        }
      ]
    },
    {
      "cell_type": "code",
      "source": [
        "# 5. Write a program to demonstrate encapsulation by creating a class BankAccount with private attributes balance and methods to deposit, withdraw, and check balance.\n",
        "class BankAccount:\n",
        "    def __init__(self, balance):\n",
        "        self.__balance = balance\n",
        "\n",
        "    def deposit(self, amount):\n",
        "        self.__balance += amount\n",
        "\n",
        "    def withdraw(self, amount):\n",
        "        if amount <= self.__balance:\n",
        "            self.__balance -= amount\n",
        "        else:\n",
        "            print(\"Insufficient balance.\")\n",
        "\n",
        "    def get_balance(self):\n",
        "        return self.__balance\n",
        "\n",
        "# Example usage\n",
        "account = BankAccount(1000)\n",
        "account.deposit(500)\n",
        "account.withdraw(200)\n",
        "print(\"Current Balance:\", account.get_balance())"
      ],
      "metadata": {
        "colab": {
          "base_uri": "https://localhost:8080/"
        },
        "id": "iYpTOc23hjDr",
        "outputId": "40b27085-2732-43a7-c719-38f8b4f6fb41"
      },
      "execution_count": 12,
      "outputs": [
        {
          "output_type": "stream",
          "name": "stdout",
          "text": [
            "Current Balance: 1300\n"
          ]
        }
      ]
    },
    {
      "cell_type": "code",
      "source": [
        "# 6. Demonstrate runtime polymorphism using a method play() in a base class Instrument. Derive classes Guitar and Piano that implement their own version of play().\n",
        "class Instrument:\n",
        "    def play(self):\n",
        "        print(\"Playing an instrument.\")\n",
        "\n",
        "class Guitar(Instrument):\n",
        "    def play(self):\n",
        "        print(\"Playing the guitar.\")\n",
        "\n",
        "class Piano(Instrument):\n",
        "    def play(self):\n",
        "        print(\"Playing the piano.\")\n",
        "\n",
        "# Example usage\n",
        "instruments = [Guitar(), Piano()]\n",
        "for instrument in instruments:\n",
        "    instrument.play()"
      ],
      "metadata": {
        "colab": {
          "base_uri": "https://localhost:8080/"
        },
        "id": "Qt0uuKSuhsH9",
        "outputId": "1311f237-00c0-455c-a747-dc40ece5d27c"
      },
      "execution_count": 14,
      "outputs": [
        {
          "output_type": "stream",
          "name": "stdout",
          "text": [
            "Playing the guitar.\n",
            "Playing the piano.\n"
          ]
        }
      ]
    },
    {
      "cell_type": "code",
      "source": [
        "# 7. Create a class MathOperations with a class method add_numbers() to add two numbers and a static method subtract_numbers() to subtract two numbers.\n",
        "class MathOperations:\n",
        "    @classmethod\n",
        "    def add_numbers(cls, a, b):\n",
        "        return a + b\n",
        "\n",
        "    @staticmethod\n",
        "    def subtract_numbers(a, b):\n",
        "        return a - b\n",
        "\n",
        "# Example usage\n",
        "result_add = MathOperations.add_numbers(10, 5)\n",
        "result_subtract = MathOperations.subtract_numbers(10, 5)\n",
        "print(\"Addition:\", result_add)\n",
        "print(\"Subtraction:\", result_subtract)"
      ],
      "metadata": {
        "colab": {
          "base_uri": "https://localhost:8080/"
        },
        "id": "vCikiVWWiB-k",
        "outputId": "99a2ea4a-b29c-4375-d6ea-2a694f779415"
      },
      "execution_count": 15,
      "outputs": [
        {
          "output_type": "stream",
          "name": "stdout",
          "text": [
            "Addition: 15\n",
            "Subtraction: 5\n"
          ]
        }
      ]
    },
    {
      "cell_type": "code",
      "source": [
        "# 8. Implement a class Person with a class method to count the total number of persons created.\n",
        "class Person:\n",
        "    count = 0\n",
        "\n",
        "    def __init__(self, name):\n",
        "        self.name = name\n",
        "        Person.count += 1\n",
        "\n",
        "    @classmethod\n",
        "    def get_total_persons(cls):\n",
        "        return cls.count\n",
        "\n",
        "# Example usage\n",
        "p1 = Person(\"Alice\")\n",
        "p2 = Person(\"Bob\")\n",
        "print(\"Total persons:\", Person.get_total_persons())"
      ],
      "metadata": {
        "colab": {
          "base_uri": "https://localhost:8080/"
        },
        "id": "ZI8D9TeUiXOu",
        "outputId": "6945f0c4-1e5d-4977-cefb-68cdc99bf7d5"
      },
      "execution_count": 16,
      "outputs": [
        {
          "output_type": "stream",
          "name": "stdout",
          "text": [
            "Total persons: 2\n"
          ]
        }
      ]
    },
    {
      "cell_type": "code",
      "source": [
        "# 9. Write a class Fraction with attributes numerator and denominator. Override the __str__ method to display the fraction as \"numerator/denominator\".\n",
        "class Fraction:\n",
        "    def __init__(self, numerator, denominator):\n",
        "        self.numerator = numerator\n",
        "        self.denominator = denominator\n",
        "\n",
        "    def __str__(self):\n",
        "        return f\"{self.numerator}/{self.denominator}\"\n",
        "\n",
        "# Example usage\n",
        "fraction = Fraction(3, 4)\n",
        "print(fraction)"
      ],
      "metadata": {
        "colab": {
          "base_uri": "https://localhost:8080/"
        },
        "id": "y8qDG4vqihgm",
        "outputId": "297d5fb4-883e-4650-f809-ed39db5baca0"
      },
      "execution_count": 17,
      "outputs": [
        {
          "output_type": "stream",
          "name": "stdout",
          "text": [
            "3/4\n"
          ]
        }
      ]
    },
    {
      "cell_type": "code",
      "source": [
        "# 10. Demonstrate operator overloading by creating a class Vector and overriding the __add__ method to add two vectors.\n",
        "class Vector:\n",
        "    def __init__(self, x, y):\n",
        "        self.x = x\n",
        "        self.y = y\n",
        "\n",
        "    def __add__(self, other):\n",
        "        return Vector(self.x + other.x, self.y + other.y)\n",
        "\n",
        "    def __str__(self):\n",
        "        return f\"Vector({self.x}, {self.y})\"\n",
        "\n",
        "# Example usage\n",
        "v1 = Vector(2, 3)\n",
        "v2 = Vector(4, 5)\n",
        "result = v1 + v2\n",
        "print(result)"
      ],
      "metadata": {
        "colab": {
          "base_uri": "https://localhost:8080/"
        },
        "id": "9Dmvp-fJioeV",
        "outputId": "eb9ba363-09a1-4002-819e-c8d96f5e0723"
      },
      "execution_count": 18,
      "outputs": [
        {
          "output_type": "stream",
          "name": "stdout",
          "text": [
            "Vector(6, 8)\n"
          ]
        }
      ]
    },
    {
      "cell_type": "code",
      "source": [
        "# 11. Create a class Person with attributes name and age. Add a method greet() that prints \"Hello, my name is {name} and I am {age} years old.\"\n",
        "class Person:\n",
        "    def __init__(self, name, age):\n",
        "        self.name = name\n",
        "        self.age = age\n",
        "\n",
        "    def greet(self):\n",
        "        print(f\"Hello, my name is {self.name} and I am {self.age} years old.\")\n",
        "\n",
        "# Example usage\n",
        "person = Person(\"Alice\", 25)\n",
        "person.greet()"
      ],
      "metadata": {
        "colab": {
          "base_uri": "https://localhost:8080/"
        },
        "id": "8G_Piytdiv1r",
        "outputId": "139c0b6a-299c-468b-a62d-e7fd0126e5b7"
      },
      "execution_count": 19,
      "outputs": [
        {
          "output_type": "stream",
          "name": "stdout",
          "text": [
            "Hello, my name is Alice and I am 25 years old.\n"
          ]
        }
      ]
    },
    {
      "cell_type": "code",
      "source": [
        "# 12. Implement a class Student with attributes name and grades. Create a method average_grade() to compute the average of the grades.\n",
        "class Student:\n",
        "    def __init__(self, name, grades):\n",
        "        self.name = name\n",
        "        self.grades = grades\n",
        "\n",
        "    def average_grade(self):\n",
        "        if self.grades:\n",
        "            return sum(self.grades) / len(self.grades)\n",
        "        return 0\n",
        "\n",
        "# Example usage\n",
        "student = Student(\"Bob\", [85, 90, 75])\n",
        "print(\"Average Grade:\", student.average_grade())"
      ],
      "metadata": {
        "colab": {
          "base_uri": "https://localhost:8080/"
        },
        "id": "MHkRpFfyi33-",
        "outputId": "7e55e407-0e3b-4446-ddc9-94b6dc18b131"
      },
      "execution_count": 20,
      "outputs": [
        {
          "output_type": "stream",
          "name": "stdout",
          "text": [
            "Average Grade: 83.33333333333333\n"
          ]
        }
      ]
    },
    {
      "cell_type": "code",
      "source": [
        "# 13. Create a class Rectangle with methods set_dimensions() to set the dimensions and area() to calculate the area.\n",
        "class Rectangle:\n",
        "    def set_dimensions(self, length, width):\n",
        "        self.length = length\n",
        "        self.width = width\n",
        "\n",
        "    def area(self):\n",
        "        return self.length * self.width\n",
        "\n",
        "# Example usage\n",
        "rectangle = Rectangle()\n",
        "rectangle.set_dimensions(5, 10)\n",
        "print(\"Area:\", rectangle.area())"
      ],
      "metadata": {
        "colab": {
          "base_uri": "https://localhost:8080/"
        },
        "id": "Jca8QajBjFY2",
        "outputId": "020327d6-024c-4120-a5aa-471745a4acb0"
      },
      "execution_count": 21,
      "outputs": [
        {
          "output_type": "stream",
          "name": "stdout",
          "text": [
            "Area: 50\n"
          ]
        }
      ]
    },
    {
      "cell_type": "code",
      "source": [
        "# 14. Create a class Employee with a method calculate_salary() that computes the salary based on hours worked and hourly rate. Create a derived class Manager that adds a bonus to the salary.\n",
        "class Employee:\n",
        "    def __init__(self, hours_worked, hourly_rate):\n",
        "        self.hours_worked = hours_worked\n",
        "        self.hourly_rate = hourly_rate\n",
        "\n",
        "    def calculate_salary(self):\n",
        "        return self.hours_worked * self.hourly_rate\n",
        "\n",
        "class Manager(Employee):\n",
        "    def __init__(self, hours_worked, hourly_rate, bonus):\n",
        "        super().__init__(hours_worked, hourly_rate)\n",
        "        self.bonus = bonus\n",
        "\n",
        "    def calculate_salary(self):\n",
        "        return super().calculate_salary() + self.bonus\n",
        "\n",
        "# Example usage\n",
        "manager = Manager(40, 20, 500)\n",
        "print(\"Manager Salary:\", manager.calculate_salary())"
      ],
      "metadata": {
        "colab": {
          "base_uri": "https://localhost:8080/"
        },
        "id": "1IkL2hV9jL9S",
        "outputId": "a5c57ebc-d07d-4d56-e60a-0bd9518b43b4"
      },
      "execution_count": 22,
      "outputs": [
        {
          "output_type": "stream",
          "name": "stdout",
          "text": [
            "Manager Salary: 1300\n"
          ]
        }
      ]
    },
    {
      "cell_type": "code",
      "source": [
        "# 15. Create a class Product with attributes name, price, and quantity. Implement a method total_price() that calculates the total price of the product.\n",
        "class Product:\n",
        "    def __init__(self, name, price, quantity):\n",
        "        self.name = name\n",
        "        self.price = price\n",
        "        self.quantity = quantity\n",
        "\n",
        "    def total_price(self):\n",
        "        return self.price * self.quantity\n",
        "\n",
        "# Example usage\n",
        "product = Product(\"Laptop\", 1000, 5)\n",
        "print(\"Total Price:\", product.total_price())"
      ],
      "metadata": {
        "colab": {
          "base_uri": "https://localhost:8080/"
        },
        "id": "Wb8rFGscjV5N",
        "outputId": "3df2c1a9-03e5-4dc5-d4b6-23c89535051e"
      },
      "execution_count": 23,
      "outputs": [
        {
          "output_type": "stream",
          "name": "stdout",
          "text": [
            "Total Price: 5000\n"
          ]
        }
      ]
    },
    {
      "cell_type": "code",
      "source": [
        "# 16. Create a class Animal with an abstract method sound(). Create two derived classes Cow and Sheep that implement the sound() method.\n",
        "from abc import ABC, abstractmethod\n",
        "\n",
        "class Animal(ABC):\n",
        "    @abstractmethod\n",
        "    def sound(self):\n",
        "        pass\n",
        "\n",
        "class Cow(Animal):\n",
        "    def sound(self):\n",
        "        print(\"Moo!\")\n",
        "\n",
        "class Sheep(Animal):\n",
        "    def sound(self):\n",
        "        print(\"Baa!\")\n",
        "\n",
        "# Example usage\n",
        "cow = Cow()\n",
        "sheep = Sheep()\n",
        "cow.sound()\n",
        "sheep.sound()"
      ],
      "metadata": {
        "colab": {
          "base_uri": "https://localhost:8080/"
        },
        "id": "pN1gY1OGjeRG",
        "outputId": "66cf0a05-3112-4f82-be1c-6a0a194149e3"
      },
      "execution_count": 24,
      "outputs": [
        {
          "output_type": "stream",
          "name": "stdout",
          "text": [
            "Moo!\n",
            "Baa!\n"
          ]
        }
      ]
    },
    {
      "cell_type": "code",
      "source": [
        "# 17. Create a class Book with attributes title, author, and year_published. Add a method get_book_info() that returns a formatted string with the book's details.\n",
        "class Book:\n",
        "    def __init__(self, title, author, year_published):\n",
        "        self.title = title\n",
        "        self.author = author\n",
        "        self.year_published = year_published\n",
        "\n",
        "    def get_book_info(self):\n",
        "        return f\"Book: {self.title} by {self.author}, published in {self.year_published}.\"\n",
        "\n",
        "# Example usage\n",
        "book = Book(\"The Great Gatsby\", \"F. Scott Fitzgerald\", 1925)\n",
        "print(book.get_book_info())"
      ],
      "metadata": {
        "colab": {
          "base_uri": "https://localhost:8080/"
        },
        "id": "2in3Me_ijnSU",
        "outputId": "cb41f16f-0798-4110-9779-927601b863c8"
      },
      "execution_count": 25,
      "outputs": [
        {
          "output_type": "stream",
          "name": "stdout",
          "text": [
            "Book: The Great Gatsby by F. Scott Fitzgerald, published in 1925.\n"
          ]
        }
      ]
    },
    {
      "cell_type": "code",
      "source": [
        "# 18. Create a class House with attributes address and price. Create a derived class Mansion that adds an attribute number_of_rooms.\n",
        "class House:\n",
        "    def __init__(self, address, price):\n",
        "        self.address = address\n",
        "        self.price = price\n",
        "\n",
        "class Mansion(House):\n",
        "    def __init__(self, address, price, number_of_rooms):\n",
        "        super().__init__(address, price)\n",
        "        self.number_of_rooms = number_of_rooms\n",
        "\n",
        "# Example usage\n",
        "mansion = Mansion(\"123 Main Street\", 5000000, 10)\n",
        "print(\"Address:\", mansion.address)\n",
        "print(\"Price:\", mansion.price)\n",
        "print(\"Number of Rooms:\", mansion.number_of_rooms)"
      ],
      "metadata": {
        "colab": {
          "base_uri": "https://localhost:8080/"
        },
        "id": "ssHN-GJmj-3g",
        "outputId": "809238e5-b216-40de-83a9-62f95780a2c3"
      },
      "execution_count": 26,
      "outputs": [
        {
          "output_type": "stream",
          "name": "stdout",
          "text": [
            "Address: 123 Main Street\n",
            "Price: 5000000\n",
            "Number of Rooms: 10\n"
          ]
        }
      ]
    }
  ]
}